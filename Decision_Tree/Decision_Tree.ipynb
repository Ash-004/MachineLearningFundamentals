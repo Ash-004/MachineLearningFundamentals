{
 "cells": [
  {
   "cell_type": "markdown",
   "id": "254e5201",
   "metadata": {},
   "source": [
    "# Entropy"
   ]
  },
  {
   "cell_type": "code",
   "execution_count": 1,
   "id": "7b4dd88d",
   "metadata": {},
   "outputs": [],
   "source": [
    "import numpy as np"
   ]
  },
  {
   "cell_type": "code",
   "execution_count": 2,
   "id": "3348cf7a",
   "metadata": {},
   "outputs": [],
   "source": [
    "Y = np.array([1,0,0,1,0,1,0,1])\n",
    "X = np.array([1,1,1,1,1,1,1])"
   ]
  },
  {
   "cell_type": "code",
   "execution_count": 3,
   "id": "702dfc5e",
   "metadata": {},
   "outputs": [],
   "source": [
    "def entropy(var):\n",
    "    values , count = np.unique(var, return_counts=True)\n",
    "    n = var.shape[0]\n",
    "    \n",
    "    ent = 0.0\n",
    "    for i in count:\n",
    "        p = i/n\n",
    "        ent += (p * np.log2(p))\n",
    "        \n",
    "    return -ent"
   ]
  },
  {
   "cell_type": "code",
   "execution_count": 4,
   "id": "eb7296d3",
   "metadata": {},
   "outputs": [
    {
     "data": {
      "text/plain": [
       "1.0"
      ]
     },
     "execution_count": 4,
     "metadata": {},
     "output_type": "execute_result"
    }
   ],
   "source": [
    "entropy(Y)"
   ]
  },
  {
   "cell_type": "code",
   "execution_count": 5,
   "id": "5463853d",
   "metadata": {},
   "outputs": [
    {
     "data": {
      "text/plain": [
       "-0.0"
      ]
     },
     "execution_count": 5,
     "metadata": {},
     "output_type": "execute_result"
    }
   ],
   "source": [
    "entropy(X)"
   ]
  },
  {
   "cell_type": "markdown",
   "id": "043241c8",
   "metadata": {},
   "source": [
    "# Split Data"
   ]
  },
  {
   "cell_type": "code",
   "execution_count": 6,
   "id": "b08a0c11",
   "metadata": {},
   "outputs": [],
   "source": [
    "import pandas as pd"
   ]
  },
  {
   "cell_type": "code",
   "execution_count": 7,
   "id": "89f42ca7",
   "metadata": {},
   "outputs": [],
   "source": [
    "df = pd.read_csv('golf.csv')"
   ]
  },
  {
   "cell_type": "code",
   "execution_count": 8,
   "id": "6f2d9626",
   "metadata": {},
   "outputs": [
    {
     "data": {
      "text/html": [
       "<div>\n",
       "<style scoped>\n",
       "    .dataframe tbody tr th:only-of-type {\n",
       "        vertical-align: middle;\n",
       "    }\n",
       "\n",
       "    .dataframe tbody tr th {\n",
       "        vertical-align: top;\n",
       "    }\n",
       "\n",
       "    .dataframe thead th {\n",
       "        text-align: right;\n",
       "    }\n",
       "</style>\n",
       "<table border=\"1\" class=\"dataframe\">\n",
       "  <thead>\n",
       "    <tr style=\"text-align: right;\">\n",
       "      <th></th>\n",
       "      <th>Outlook</th>\n",
       "      <th>Temperature</th>\n",
       "      <th>Humidity</th>\n",
       "      <th>Windy</th>\n",
       "      <th>Play</th>\n",
       "    </tr>\n",
       "  </thead>\n",
       "  <tbody>\n",
       "    <tr>\n",
       "      <th>0</th>\n",
       "      <td>sunny</td>\n",
       "      <td>hot</td>\n",
       "      <td>high</td>\n",
       "      <td>False</td>\n",
       "      <td>no</td>\n",
       "    </tr>\n",
       "    <tr>\n",
       "      <th>1</th>\n",
       "      <td>sunny</td>\n",
       "      <td>hot</td>\n",
       "      <td>high</td>\n",
       "      <td>True</td>\n",
       "      <td>no</td>\n",
       "    </tr>\n",
       "    <tr>\n",
       "      <th>2</th>\n",
       "      <td>overcast</td>\n",
       "      <td>hot</td>\n",
       "      <td>high</td>\n",
       "      <td>False</td>\n",
       "      <td>yes</td>\n",
       "    </tr>\n",
       "    <tr>\n",
       "      <th>3</th>\n",
       "      <td>rainy</td>\n",
       "      <td>mild</td>\n",
       "      <td>high</td>\n",
       "      <td>False</td>\n",
       "      <td>yes</td>\n",
       "    </tr>\n",
       "    <tr>\n",
       "      <th>4</th>\n",
       "      <td>rainy</td>\n",
       "      <td>cool</td>\n",
       "      <td>normal</td>\n",
       "      <td>False</td>\n",
       "      <td>yes</td>\n",
       "    </tr>\n",
       "  </tbody>\n",
       "</table>\n",
       "</div>"
      ],
      "text/plain": [
       "    Outlook Temperature Humidity  Windy Play\n",
       "0     sunny         hot     high  False   no\n",
       "1     sunny         hot     high   True   no\n",
       "2  overcast         hot     high  False  yes\n",
       "3     rainy        mild     high  False  yes\n",
       "4     rainy        cool   normal  False  yes"
      ]
     },
     "execution_count": 8,
     "metadata": {},
     "output_type": "execute_result"
    }
   ],
   "source": [
    "df.head()"
   ]
  },
  {
   "cell_type": "code",
   "execution_count": 9,
   "id": "929a4537",
   "metadata": {},
   "outputs": [],
   "source": [
    "def divide_data(data, feature):\n",
    "    DATA = {}\n",
    "    \n",
    "    feat_values = list(data[feature].value_counts().index)\n",
    "    occurence = list(data[feature].value_counts())\n",
    "    \n",
    "    for val in feat_values:\n",
    "        DATA[val] = {'data': pd.DataFrame(columns=data.columns), 'len': 0}\n",
    "        \n",
    "    for ix in range(data.shape[0]):\n",
    "        val = data[feature].iloc[ix]\n",
    "        \n",
    "        DATA[val]['data'] = pd.concat([DATA[val]['data'], data.iloc[[ix]]], ignore_index=True)\n",
    "        \n",
    "        idx = feat_values.index(val)\n",
    "        DATA[val]['len'] = occurence[idx]\n",
    "    \n",
    "    return DATA\n"
   ]
  },
  {
   "cell_type": "code",
   "execution_count": 13,
   "id": "483b95d0",
   "metadata": {},
   "outputs": [
    {
     "data": {
      "text/plain": [
       "{'sunny': {'data':   Outlook Temperature Humidity  Windy Play\n",
       "  0   sunny         hot     high  False   no\n",
       "  1   sunny         hot     high   True   no\n",
       "  2   sunny        mild     high  False   no\n",
       "  3   sunny        cool   normal  False  yes\n",
       "  4   sunny        mild   normal   True  yes,\n",
       "  'len': 5},\n",
       " 'rainy': {'data':   Outlook Temperature Humidity  Windy Play\n",
       "  0   rainy        mild     high  False  yes\n",
       "  1   rainy        cool   normal  False  yes\n",
       "  2   rainy        cool   normal   True   no\n",
       "  3   rainy        mild   normal  False  yes\n",
       "  4   rainy        mild     high   True   no,\n",
       "  'len': 5},\n",
       " 'overcast': {'data':     Outlook Temperature Humidity  Windy Play\n",
       "  0  overcast         hot     high  False  yes\n",
       "  1  overcast        cool   normal   True  yes\n",
       "  2  overcast        mild     high   True  yes\n",
       "  3  overcast         hot   normal  False  yes,\n",
       "  'len': 4}}"
      ]
     },
     "execution_count": 13,
     "metadata": {},
     "output_type": "execute_result"
    }
   ],
   "source": [
    "divide_data(df,'Outlook')"
   ]
  },
  {
   "cell_type": "code",
   "execution_count": 14,
   "id": "4c6c62e8",
   "metadata": {},
   "outputs": [
    {
     "name": "stdout",
     "output_type": "stream",
     "text": [
      "overcast\n",
      "     Outlook Temperature Humidity  Windy Play\n",
      "2   overcast         hot     high  False  yes\n",
      "6   overcast        cool   normal   True  yes\n",
      "11  overcast        mild     high   True  yes\n",
      "12  overcast         hot   normal  False  yes\n",
      "---\n",
      "rainy\n",
      "   Outlook Temperature Humidity  Windy Play\n",
      "3    rainy        mild     high  False  yes\n",
      "4    rainy        cool   normal  False  yes\n",
      "5    rainy        cool   normal   True   no\n",
      "9    rainy        mild   normal  False  yes\n",
      "13   rainy        mild     high   True   no\n",
      "---\n",
      "sunny\n",
      "   Outlook Temperature Humidity  Windy Play\n",
      "0    sunny         hot     high  False   no\n",
      "1    sunny         hot     high   True   no\n",
      "7    sunny        mild     high  False   no\n",
      "8    sunny        cool   normal  False  yes\n",
      "10   sunny        mild   normal   True  yes\n",
      "---\n"
     ]
    }
   ],
   "source": [
    "for i,j in df.groupby('Outlook'):\n",
    "    print(i)\n",
    "    print(j)\n",
    "    \n",
    "    print(\"---\")"
   ]
  },
  {
   "cell_type": "markdown",
   "id": "bab83d45",
   "metadata": {},
   "source": [
    "# Information Gain "
   ]
  },
  {
   "cell_type": "code",
   "execution_count": 15,
   "id": "012d808d",
   "metadata": {},
   "outputs": [],
   "source": [
    "def information_gain(data, feature):\n",
    "    examples = data.shape[0]\n",
    "    \n",
    "    DATA = divide_data(data, feature)\n",
    "    \n",
    "    keys = DATA.keys()\n",
    "    \n",
    "    \n",
    "    ent_of_children = 0.0\n",
    "    \n",
    "    for key in keys:\n",
    "        ent_of_children +=  ( (DATA[key]['len']/examples) * entropy(DATA[key]['data']['Play']) )\n",
    "        \n",
    "    info_gain = entropy(data['Play']) - ent_of_children\n",
    "    return info_gain"
   ]
  },
  {
   "cell_type": "code",
   "execution_count": 16,
   "id": "765cea94",
   "metadata": {},
   "outputs": [
    {
     "data": {
      "text/plain": [
       "0.24674981977443933"
      ]
     },
     "execution_count": 16,
     "metadata": {},
     "output_type": "execute_result"
    }
   ],
   "source": [
    "information_gain(df, 'Outlook')"
   ]
  },
  {
   "cell_type": "code",
   "execution_count": 17,
   "id": "2574eec2",
   "metadata": {},
   "outputs": [
    {
     "data": {
      "text/plain": [
       "0.04812703040826949"
      ]
     },
     "execution_count": 17,
     "metadata": {},
     "output_type": "execute_result"
    }
   ],
   "source": [
    "information_gain(df, 'Windy')"
   ]
  },
  {
   "cell_type": "code",
   "execution_count": 18,
   "id": "c1fce08e",
   "metadata": {},
   "outputs": [
    {
     "data": {
      "text/plain": [
       "0.02922256565895487"
      ]
     },
     "execution_count": 18,
     "metadata": {},
     "output_type": "execute_result"
    }
   ],
   "source": [
    "information_gain(df, 'Temperature')"
   ]
  },
  {
   "cell_type": "code",
   "execution_count": 19,
   "id": "4e34c08d",
   "metadata": {},
   "outputs": [
    {
     "data": {
      "text/plain": [
       "0.15183550136234159"
      ]
     },
     "execution_count": 19,
     "metadata": {},
     "output_type": "execute_result"
    }
   ],
   "source": [
    "information_gain(df, 'Humidity')"
   ]
  },
  {
   "cell_type": "markdown",
   "id": "706940e7",
   "metadata": {},
   "source": [
    "# Decision Tree Implementation"
   ]
  },
  {
   "cell_type": "code",
   "execution_count": 20,
   "id": "229c2ffa",
   "metadata": {},
   "outputs": [],
   "source": [
    "class DecisionTree:\n",
    "    \n",
    "    def __init__(self, depth=0, max_depth=5):\n",
    "        self.children = {}\n",
    "        self.fkey = None\n",
    "        self.max_depth = max_depth\n",
    "        self.depth = depth\n",
    "        self.target = None\n",
    "        \n",
    "    def train(self, data):\n",
    "        features = ['Outlook', 'Temperature', 'Humidity', 'Windy']\n",
    "        \n",
    "        info_gains = []\n",
    "        \n",
    "        for f in features:\n",
    "            i_gain = information_gain(data, f)\n",
    "            info_gains.append(i_gain)\n",
    "            \n",
    "        self.fkey = features[np.argmax(info_gains)]\n",
    "        \n",
    "        DATA = divide_data(data, self.fkey)\n",
    "        \n",
    "        \n",
    "        labels = list(data['Play'].value_counts().index)\n",
    "        freq = list(data['Play'].value_counts().values)\n",
    "        \n",
    "        self.target = labels[np.argmax(freq)]\n",
    "        \n",
    "        \n",
    "    \n",
    "        \n",
    "        \n",
    "        have_data = 0\n",
    "        keys = DATA.keys()\n",
    "        \n",
    "        for key in keys:\n",
    "            if DATA[key]['len'] > 0:\n",
    "                have_data +=1\n",
    "        \n",
    "        if have_data<2:\n",
    "            return \n",
    "        \n",
    "    \n",
    "        if(self.depth >= self.max_depth):\n",
    "            return\n",
    "        \n",
    "        \n",
    "        print(\"\\t\"*self.depth + \"Making tree with - \", self.fkey)\n",
    "        \n",
    "        \n",
    "        for key in keys:\n",
    "            new_data = DATA[key]['data']\n",
    "            self.children[key] = DecisionTree(depth = self.depth + 1)\n",
    "            self.children[key].train(new_data)\n",
    "            \n",
    "        return  \n",
    "    \n",
    "    \n",
    "    def predict(self, test):\n",
    "        if self.children == {}:\n",
    "            return self.target\n",
    "        return self.children[test[self.fkey][0]].predict(test)\n"
   ]
  },
  {
   "cell_type": "code",
   "execution_count": 21,
   "id": "8d038e78",
   "metadata": {},
   "outputs": [],
   "source": [
    "model = DecisionTree()"
   ]
  },
  {
   "cell_type": "code",
   "execution_count": 22,
   "id": "d6927763",
   "metadata": {},
   "outputs": [
    {
     "name": "stdout",
     "output_type": "stream",
     "text": [
      "Making tree with -  Outlook\n",
      "\tMaking tree with -  Humidity\n",
      "\tMaking tree with -  Windy\n"
     ]
    }
   ],
   "source": [
    "model.train(df)"
   ]
  },
  {
   "cell_type": "code",
   "execution_count": 23,
   "id": "36fd23cc",
   "metadata": {},
   "outputs": [
    {
     "data": {
      "text/plain": [
       "'yes'"
      ]
     },
     "execution_count": 23,
     "metadata": {},
     "output_type": "execute_result"
    }
   ],
   "source": [
    "model.target"
   ]
  },
  {
   "cell_type": "code",
   "execution_count": 24,
   "id": "3947021b",
   "metadata": {},
   "outputs": [
    {
     "data": {
      "text/plain": [
       "'Outlook'"
      ]
     },
     "execution_count": 24,
     "metadata": {},
     "output_type": "execute_result"
    }
   ],
   "source": [
    "model.fkey"
   ]
  },
  {
   "cell_type": "code",
   "execution_count": 25,
   "id": "2f632053",
   "metadata": {},
   "outputs": [
    {
     "data": {
      "text/plain": [
       "{'sunny': <__main__.DecisionTree at 0x7f7ae8341950>,\n",
       " 'rainy': <__main__.DecisionTree at 0x7f7ad2123790>,\n",
       " 'overcast': <__main__.DecisionTree at 0x7f7ad212f6d0>}"
      ]
     },
     "execution_count": 25,
     "metadata": {},
     "output_type": "execute_result"
    }
   ],
   "source": [
    "model.children"
   ]
  },
  {
   "cell_type": "code",
   "execution_count": 26,
   "id": "83803750",
   "metadata": {},
   "outputs": [
    {
     "data": {
      "text/plain": [
       "<__main__.DecisionTree at 0x7f7ae8341950>"
      ]
     },
     "execution_count": 26,
     "metadata": {},
     "output_type": "execute_result"
    }
   ],
   "source": [
    "model.children['sunny']"
   ]
  },
  {
   "cell_type": "code",
   "execution_count": 27,
   "id": "04829b37",
   "metadata": {},
   "outputs": [
    {
     "data": {
      "text/plain": [
       "'Humidity'"
      ]
     },
     "execution_count": 27,
     "metadata": {},
     "output_type": "execute_result"
    }
   ],
   "source": [
    "model.children['sunny'].fkey"
   ]
  },
  {
   "cell_type": "code",
   "execution_count": 28,
   "id": "850f5695",
   "metadata": {},
   "outputs": [
    {
     "data": {
      "text/plain": [
       "{'high': <__main__.DecisionTree at 0x7f7ad2119b50>,\n",
       " 'normal': <__main__.DecisionTree at 0x7f7ad212ef10>}"
      ]
     },
     "execution_count": 28,
     "metadata": {},
     "output_type": "execute_result"
    }
   ],
   "source": [
    "model.children['sunny'].children"
   ]
  },
  {
   "cell_type": "code",
   "execution_count": 29,
   "id": "ef96f8a9",
   "metadata": {},
   "outputs": [
    {
     "data": {
      "text/plain": [
       "{}"
      ]
     },
     "execution_count": 29,
     "metadata": {},
     "output_type": "execute_result"
    }
   ],
   "source": [
    "model.children['sunny'].children['high'].children"
   ]
  },
  {
   "cell_type": "code",
   "execution_count": 30,
   "id": "c5ad57ac",
   "metadata": {},
   "outputs": [],
   "source": [
    "x_test = pd.DataFrame([['sunny', 'hot', 'normal', False]], columns=list(df.columns.values[:-1]))"
   ]
  },
  {
   "cell_type": "code",
   "execution_count": 31,
   "id": "be8883c2",
   "metadata": {},
   "outputs": [
    {
     "data": {
      "text/html": [
       "<div>\n",
       "<style scoped>\n",
       "    .dataframe tbody tr th:only-of-type {\n",
       "        vertical-align: middle;\n",
       "    }\n",
       "\n",
       "    .dataframe tbody tr th {\n",
       "        vertical-align: top;\n",
       "    }\n",
       "\n",
       "    .dataframe thead th {\n",
       "        text-align: right;\n",
       "    }\n",
       "</style>\n",
       "<table border=\"1\" class=\"dataframe\">\n",
       "  <thead>\n",
       "    <tr style=\"text-align: right;\">\n",
       "      <th></th>\n",
       "      <th>Outlook</th>\n",
       "      <th>Temperature</th>\n",
       "      <th>Humidity</th>\n",
       "      <th>Windy</th>\n",
       "    </tr>\n",
       "  </thead>\n",
       "  <tbody>\n",
       "    <tr>\n",
       "      <th>0</th>\n",
       "      <td>sunny</td>\n",
       "      <td>hot</td>\n",
       "      <td>normal</td>\n",
       "      <td>False</td>\n",
       "    </tr>\n",
       "  </tbody>\n",
       "</table>\n",
       "</div>"
      ],
      "text/plain": [
       "  Outlook Temperature Humidity  Windy\n",
       "0   sunny         hot   normal  False"
      ]
     },
     "execution_count": 31,
     "metadata": {},
     "output_type": "execute_result"
    }
   ],
   "source": [
    "x_test"
   ]
  },
  {
   "cell_type": "code",
   "execution_count": 32,
   "id": "e5e59ba7",
   "metadata": {},
   "outputs": [
    {
     "data": {
      "text/plain": [
       "'yes'"
      ]
     },
     "execution_count": 32,
     "metadata": {},
     "output_type": "execute_result"
    }
   ],
   "source": [
    "model.predict(x_test)"
   ]
  },
  {
   "cell_type": "code",
   "execution_count": null,
   "id": "1c80efa7",
   "metadata": {},
   "outputs": [],
   "source": []
  }
 ],
 "metadata": {
  "kernelspec": {
   "display_name": "Python 3 (ipykernel)",
   "language": "python",
   "name": "python3"
  },
  "language_info": {
   "codemirror_mode": {
    "name": "ipython",
    "version": 3
   },
   "file_extension": ".py",
   "mimetype": "text/x-python",
   "name": "python",
   "nbconvert_exporter": "python",
   "pygments_lexer": "ipython3",
   "version": "3.11.4"
  }
 },
 "nbformat": 4,
 "nbformat_minor": 5
}
